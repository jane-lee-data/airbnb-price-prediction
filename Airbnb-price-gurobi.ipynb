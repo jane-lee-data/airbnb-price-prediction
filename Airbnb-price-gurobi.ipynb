{
 "cells": [
  {
   "cell_type": "markdown",
   "metadata": {},
   "source": [
    "## Predicting Airbnb Prices\n"
   ]
  },
  {
   "cell_type": "markdown",
   "metadata": {},
   "source": [
    "## Model 1"
   ]
  },
  {
   "cell_type": "code",
   "execution_count": 34,
   "metadata": {},
   "outputs": [],
   "source": [
    "# Import gurobi and numpy\n",
    "from gurobipy import *\n",
    "import numpy as np\n",
    "import pandas as pd"
   ]
  },
  {
   "cell_type": "code",
   "execution_count": 35,
   "metadata": {},
   "outputs": [],
   "source": [
    "# Load training and test data\n",
    "train = pd.read_csv('AirbnbTrain.csv')\n",
    "test = pd.read_csv('AirbnbTest.csv')"
   ]
  },
  {
   "cell_type": "code",
   "execution_count": 36,
   "metadata": {},
   "outputs": [],
   "source": [
    "shape_train = train.shape\n",
    "# number of listings i \n",
    "listings = shape_train[0]\n",
    "# number of features j (indepdent variables)\n",
    "features = shape_train[1] - 1 \n",
    "# price y\n",
    "price = train['price']\n",
    "# all x (independent variables)\n",
    "X = train.drop('price', axis=1)"
   ]
  },
  {
   "cell_type": "code",
   "execution_count": 37,
   "metadata": {},
   "outputs": [
    {
     "name": "stdout",
     "output_type": "stream",
     "text": [
      "Gurobi Optimizer version 11.0.0 build v11.0.0rc2 (mac64[arm] - Darwin 22.6.0 22G320)\n",
      "\n",
      "CPU model: Apple M2 Pro\n",
      "Thread count: 10 physical cores, 10 logical processors, using up to 10 threads\n",
      "\n",
      "Optimize a model with 3400 rows, 1713 columns and 44772 nonzeros\n",
      "Model fingerprint: 0xa312114c\n",
      "Coefficient statistics:\n",
      "  Matrix range     [5e-01, 5e+02]\n",
      "  Objective range  [6e-04, 6e-04]\n",
      "  Bounds range     [0e+00, 0e+00]\n",
      "  RHS range        [1e+01, 2e+03]\n",
      "Presolve time: 0.01s\n",
      "Presolved: 3400 rows, 1713 columns, 44772 nonzeros\n",
      "\n",
      "Concurrent LP optimizer: primal simplex, dual simplex, and barrier\n",
      "Showing barrier log only...\n",
      "\n",
      "Ordering time: 0.00s\n",
      "\n",
      "Barrier statistics:\n",
      " Dense cols : 13\n",
      " Free vars  : 12\n",
      " AA' NZ     : 3.252e+04\n",
      " Factor NZ  : 3.519e+04 (roughly 2 MB of memory)\n",
      " Factor Ops : 4.819e+05 (less than 1 second per iteration)\n",
      " Threads    : 1\n",
      "\n",
      "                  Objective                Residual\n",
      "Iter       Primal          Dual         Primal    Dual     Compl     Time\n",
      "   0   2.17619797e+03  0.00000000e+00  1.71e+01 0.00e+00  2.77e+01     0s\n",
      "   1   1.45016014e+03  1.91066889e+00  0.00e+00 3.77e-13  3.00e+00     0s\n",
      "   2   1.18277431e+02  5.57693541e+00  0.00e+00 8.41e-13  2.34e-01     0s\n",
      "   3   4.30550432e+01  2.17972901e+01  0.00e+00 2.68e-11  4.41e-02     0s\n",
      "   4   3.74956714e+01  3.31529436e+01  0.00e+00 7.05e-12  9.00e-03     0s\n",
      "   5   3.62578899e+01  3.49111913e+01  0.00e+00 9.77e-12  2.79e-03     0s\n",
      "   6   3.59092904e+01  3.55656164e+01  0.00e+00 7.11e-12  7.12e-04     0s\n",
      "   7   3.57922071e+01  3.56678158e+01  0.00e+00 2.16e-12  2.58e-04     0s\n",
      "   8   3.57435931e+01  3.57240573e+01  0.00e+00 8.59e-13  4.05e-05     0s\n",
      "   9   3.57303564e+01  3.57296741e+01  0.00e+00 3.67e-13  1.41e-06     0s\n",
      "  10   3.57300318e+01  3.57300142e+01  0.00e+00 3.67e-12  3.65e-08     0s\n",
      "  11   3.57300197e+01  3.57300197e+01  0.00e+00 6.25e-11  8.01e-12     0s\n",
      "\n",
      "Barrier solved model in 11 iterations and 0.06 seconds (0.06 work units)\n",
      "Optimal objective 3.57300197e+01\n",
      "\n",
      "Crossover log...\n",
      "\n",
      "      24 DPushes remaining with DInf 0.0000000e+00                 0s\n",
      "       0 DPushes remaining with DInf 0.0000000e+00                 0s\n",
      "\n",
      "       1 PPushes remaining with PInf 0.0000000e+00                 0s\n",
      "       0 PPushes remaining with PInf 0.0000000e+00                 0s\n",
      "\n",
      "  Push phase complete: Pinf 0.0000000e+00, Dinf 2.5695742e-15      0s\n",
      "\n",
      "\n",
      "Solved with barrier\n",
      "Iteration    Objective       Primal Inf.    Dual Inf.      Time\n",
      "      28    3.5730020e+01   0.000000e+00   0.000000e+00      0s\n",
      "\n",
      "Use crossover to convert LP symmetric solution to basic solution...\n",
      "Crossover log...\n",
      "\n",
      "       0 DPushes remaining with DInf 0.0000000e+00                 0s\n",
      "\n",
      "       1 PPushes remaining with PInf 0.0000000e+00                 0s\n",
      "       0 PPushes remaining with PInf 0.0000000e+00                 0s\n",
      "\n",
      "  Push phase complete: Pinf 0.0000000e+00, Dinf 2.7304441e-15      0s\n",
      "\n",
      "Iteration    Objective       Primal Inf.    Dual Inf.      Time\n",
      "      48    3.5730020e+01   0.000000e+00   0.000000e+00      0s\n",
      "\n",
      "Solved in 48 iterations and 0.08 seconds (0.07 work units)\n",
      "Optimal objective  3.573001974e+01\n"
     ]
    }
   ],
   "source": [
    "# Define Model\n",
    "mod = Model()\n",
    "\n",
    "\n",
    "# Define variables - beta coefficient (we are optimizing beta)\n",
    "# allow beta to go negative.\n",
    "beta = mod.addVars(features, lb=-GRB.INFINITY, vtype=GRB.CONTINUOUS)\n",
    "intercept = mod.addVar(vtype=GRB.CONTINUOUS)\n",
    "\n",
    "# dummy variable for least absolute deviations\n",
    "abs_dev = mod.addVars(listings, lb=0, vtype=GRB.CONTINUOUS)\n",
    "\n",
    "\n",
    "# Add Constraints \n",
    "# absolute value pair\n",
    "for i in range(listings):\n",
    "    estimate = intercept + sum(beta[j] * X.iloc[i, j] for j in range(features))\n",
    "    mod.addConstr(-(price[i] - estimate) <= abs_dev[i])\n",
    "    mod.addConstr((price[i] - estimate) <= abs_dev[i])\n",
    "\n",
    "\n",
    "# Objective function\n",
    "abs_dev_sum = sum(abs_dev[i] for i in range(listings))\n",
    "mod.setObjective(abs_dev_sum / listings, GRB.MINIMIZE)\n",
    "\n",
    "mod.update()\n",
    "\n",
    "mod.optimize()"
   ]
  },
  {
   "cell_type": "markdown",
   "metadata": {},
   "source": [
    "### Model 1 Coefficients"
   ]
  },
  {
   "cell_type": "code",
   "execution_count": 38,
   "metadata": {},
   "outputs": [
    {
     "name": "stdout",
     "output_type": "stream",
     "text": [
      "latitude             : 292.92731\n",
      "longitude            :  84.73530\n",
      "Entire home          :  33.22413\n",
      "accommodates         :  10.58708\n",
      "bathrooms            :  28.74156\n",
      "bedrooms             :  20.21744\n",
      "beds                 :  -2.81048\n",
      "cleaning_fee         :   0.41825\n",
      "minimum_nights       :  -1.81668\n",
      "number_of_reviews    :  -0.02919\n",
      "review_scores_rating :   0.27330\n",
      "instant_bookable     :   3.95364\n"
     ]
    }
   ],
   "source": [
    "if mod.status == GRB.OPTIMAL:\n",
    "    for j in range(features):\n",
    "        print(f'{X.columns[j]:<21}:{beta[j].X:>10.5f}')\n",
    "else:\n",
    "    print('No optimal solution found')\n"
   ]
  },
  {
   "cell_type": "markdown",
   "metadata": {},
   "source": [
    "### Model 1 Prediction Error"
   ]
  },
  {
   "cell_type": "code",
   "execution_count": 39,
   "metadata": {},
   "outputs": [
    {
     "name": "stdout",
     "output_type": "stream",
     "text": [
      "$ 34.61/night\n"
     ]
    }
   ],
   "source": [
    "# Prediction error for each observation in the test set\n",
    "test['prediction'] = sum(beta[j].X * test.iloc[:, j] for j in range(features))\n",
    "\n",
    "# Prediction error in $/night\n",
    "pred_error = (test['price'] - test['prediction']).abs().mean()\n",
    "\n",
    "print(f'$ {pred_error:.2f}/night')"
   ]
  },
  {
   "cell_type": "markdown",
   "metadata": {},
   "source": [
    "## Model 2"
   ]
  },
  {
   "cell_type": "code",
   "execution_count": 40,
   "metadata": {},
   "outputs": [
    {
     "name": "stdout",
     "output_type": "stream",
     "text": [
      "Gurobi Optimizer version 11.0.0 build v11.0.0rc2 (mac64[arm] - Darwin 22.6.0 22G320)\n",
      "\n",
      "CPU model: Apple M2 Pro\n",
      "Thread count: 10 physical cores, 10 logical processors, using up to 10 threads\n",
      "\n",
      "Optimize a model with 3425 rows, 1725 columns and 44832 nonzeros\n",
      "Variable types: 1713 continuous, 12 integer (12 binary)\n",
      "Coefficient statistics:\n",
      "  Matrix range     [5e-01, 1e+04]\n",
      "  Objective range  [6e-04, 6e-04]\n",
      "  Bounds range     [1e+00, 1e+00]\n",
      "  RHS range        [3e+00, 2e+03]\n",
      "Found heuristic solution: objective 144.9682353\n",
      "Presolve removed 828 rows and 414 columns\n",
      "Presolve time: 0.03s\n",
      "Presolved: 2597 rows, 1311 columns, 33870 nonzeros\n",
      "Variable types: 1299 continuous, 12 integer (12 binary)\n",
      "\n",
      "Root relaxation: objective 3.573002e+01, 1516 iterations, 0.12 seconds (0.40 work units)\n",
      "\n",
      "    Nodes    |    Current Node    |     Objective Bounds      |     Work\n",
      " Expl Unexpl |  Obj  Depth IntInf | Incumbent    BestBd   Gap | It/Node Time\n",
      "\n",
      "     0     0   35.73002    0    9  144.96824   35.73002  75.4%     -    0s\n",
      "H    0     0                      40.2789081   35.73002  11.3%     -    0s\n",
      "     0     0   35.73053    0    9   40.27891   35.73053  11.3%     -    0s\n",
      "     0     0   35.76788    0   11   40.27891   35.76788  11.2%     -    0s\n",
      "H    0     0                      38.2789216   35.76788  6.56%     -    0s\n",
      "     0     0   35.76840    0   11   38.27892   35.76840  6.56%     -    0s\n",
      "     0     0   35.76855    0   12   38.27892   35.76855  6.56%     -    0s\n",
      "     0     0   35.76884    0   12   38.27892   35.76884  6.56%     -    0s\n",
      "     0     0   35.77068    0   12   38.27892   35.77068  6.55%     -    0s\n",
      "     0     0   35.77068    0   12   38.27892   35.77068  6.55%     -    0s\n",
      "     0     0   35.77068    0   12   38.27892   35.77068  6.55%     -    0s\n",
      "     0     0   36.70211    0   11   38.27892   36.70211  4.12%     -    0s\n",
      "     0     2   36.70211    0   11   38.27892   36.70211  4.12%     -    0s\n",
      "\n",
      "Cutting planes:\n",
      "  Gomory: 5\n",
      "  Implied bound: 2\n",
      "  MIR: 19\n",
      "\n",
      "Explored 63 nodes (6255 simplex iterations) in 0.79 seconds (1.71 work units)\n",
      "Thread count was 10 (of 10 available processors)\n",
      "\n",
      "Solution count 3: 38.2789 40.2789 144.968 \n",
      "\n",
      "Optimal solution found (tolerance 1.00e-04)\n",
      "Best objective 3.827892156863e+01, best bound 3.827892156863e+01, gap 0.0000%\n"
     ]
    }
   ],
   "source": [
    "# a dummy variable z for selection (1 if selected, else 0)\n",
    "z = mod.addVars(features, vtype=GRB.BINARY)\n",
    "\n",
    "# when not selected, force beta = 0\n",
    "for j in range(features):\n",
    "    mod.addConstr(beta[j] <= 10000 * z[j])\n",
    "    mod.addConstr(beta[j] >= -10000 * z[j])\n",
    "\n",
    "# maximum of 3 features selected\n",
    "mod.addConstr(z.sum() <= 3)\n",
    "\n",
    "mod.update()\n",
    "\n",
    "mod.optimize()"
   ]
  },
  {
   "cell_type": "markdown",
   "metadata": {},
   "source": [
    "### Three Variables Selected"
   ]
  },
  {
   "cell_type": "code",
   "execution_count": 41,
   "metadata": {},
   "outputs": [
    {
     "name": "stdout",
     "output_type": "stream",
     "text": [
      "Entire home          :  49.16667\n",
      "accommodates         :  13.33333\n",
      "bedrooms             :  32.50000\n"
     ]
    }
   ],
   "source": [
    "if mod.status == GRB.OPTIMAL:\n",
    "    for j in range(features):\n",
    "        if z[j].X != 0:\n",
    "            print(f'{X.columns[j]:<21}:{beta[j].X:>10.5f}')\n",
    "else:\n",
    "    print('No optimal solution found')"
   ]
  },
  {
   "cell_type": "markdown",
   "metadata": {},
   "source": [
    "### New Prediction Error ($/night)"
   ]
  },
  {
   "cell_type": "code",
   "execution_count": 42,
   "metadata": {},
   "outputs": [
    {
     "name": "stdout",
     "output_type": "stream",
     "text": [
      "$ 38.19/night\n"
     ]
    }
   ],
   "source": [
    "# Prediction error for each observation in the test set\n",
    "test['prediction'] = sum(beta[j].X * test.iloc[:, j] for j in range(features))\n",
    "\n",
    "# Prediction error in $/night\n",
    "pred_error = (test['price'] - test['prediction']).abs().mean()\n",
    "\n",
    "print(f'$ {pred_error:.2f}/night')"
   ]
  },
  {
   "cell_type": "markdown",
   "metadata": {},
   "source": [
    "## Model 3"
   ]
  },
  {
   "cell_type": "code",
   "execution_count": 43,
   "metadata": {},
   "outputs": [
    {
     "name": "stdout",
     "output_type": "stream",
     "text": [
      "Gurobi Optimizer version 11.0.0 build v11.0.0rc2 (mac64[arm] - Darwin 22.6.0 22G320)\n",
      "\n",
      "CPU model: Apple M2 Pro\n",
      "Thread count: 10 physical cores, 10 logical processors, using up to 10 threads\n",
      "\n",
      "Optimize a model with 3426 rows, 1724 columns and 41433 nonzeros\n",
      "Model fingerprint: 0x3b102675\n",
      "Variable types: 1712 continuous, 12 integer (12 binary)\n",
      "Coefficient statistics:\n",
      "  Matrix range     [5e-01, 1e+04]\n",
      "  Objective range  [6e-04, 6e-04]\n",
      "  Bounds range     [1e+00, 1e+00]\n",
      "  RHS range        [1e+00, 2e+03]\n",
      "Found heuristic solution: objective 144.9682353\n",
      "Presolve removed 831 rows and 415 columns\n",
      "Presolve time: 0.02s\n",
      "Presolved: 2595 rows, 1309 columns, 31293 nonzeros\n",
      "Variable types: 1298 continuous, 11 integer (11 binary)\n",
      "\n",
      "Root relaxation: objective 3.573002e+01, 1503 iterations, 0.12 seconds (0.40 work units)\n",
      "\n",
      "    Nodes    |    Current Node    |     Objective Bounds      |     Work\n",
      " Expl Unexpl |  Obj  Depth IntInf | Incumbent    BestBd   Gap | It/Node Time\n",
      "\n",
      "     0     0   35.73002    0    9  144.96824   35.73002  75.4%     -    0s\n",
      "H    0     0                      48.6456459   35.73002  26.6%     -    0s\n",
      "     0     0   35.73002    0    9   48.64565   35.73002  26.6%     -    0s\n",
      "H    0     0                      45.5913350   35.74844  21.6%     -    0s\n",
      "     0     0   35.74844    0   10   45.59133   35.74844  21.6%     -    0s\n",
      "     0     0   35.78995    0   10   45.59133   35.78995  21.5%     -    0s\n",
      "     0     0   35.79063    0   11   45.59133   35.79063  21.5%     -    0s\n",
      "H    0     0                      41.4745588   35.79063  13.7%     -    0s\n",
      "     0     0   35.79063    0   11   41.47456   35.79063  13.7%     -    0s\n",
      "     0     0   35.79966    0   11   41.47456   35.79966  13.7%     -    0s\n",
      "     0     0   35.79966    0   11   41.47456   35.79966  13.7%     -    0s\n",
      "     0     0   35.79966    0   11   41.47456   35.79966  13.7%     -    0s\n",
      "H    0     0                      40.0730147   36.51603  8.88%     -    0s\n",
      "     0     0   36.51603    0   11   40.07301   36.51603  8.88%     -    0s\n",
      "     0     0   36.52512    0   11   40.07301   36.52512  8.85%     -    0s\n",
      "     0     2   36.52512    0   10   40.07301   36.52512  8.85%     -    0s\n",
      "\n",
      "Cutting planes:\n",
      "  Gomory: 7\n",
      "  MIR: 16\n",
      "\n",
      "Explored 27 nodes (4665 simplex iterations) in 0.74 seconds (1.62 work units)\n",
      "Thread count was 10 (of 10 available processors)\n",
      "\n",
      "Solution count 5: 40.073 41.4746 45.5913 ... 144.968\n",
      "\n",
      "Optimal solution found (tolerance 1.00e-04)\n",
      "Best objective 4.007301470588e+01, best bound 4.007301470588e+01, gap 0.0000%\n"
     ]
    }
   ],
   "source": [
    "# Define Model\n",
    "mod = Model()\n",
    "\n",
    "\n",
    "# Define variables - beta coefficient (we are optimizing beta)\n",
    "# allow beta to go negative.\n",
    "beta = mod.addVars(features, lb=-GRB.INFINITY, vtype=GRB.CONTINUOUS)\n",
    "\n",
    "# dummy variable for least absolute deviations\n",
    "abs_dev = mod.addVars(listings, lb=0, vtype=GRB.CONTINUOUS)\n",
    "\n",
    "\n",
    "# Add Constraints \n",
    "# absolute value pair\n",
    "for i in range(listings):\n",
    "    estimate = sum(beta[j] * X.iloc[i, j] for j in range(features))\n",
    "    mod.addConstr(-(price[i] - estimate) <= abs_dev[i])\n",
    "    mod.addConstr((price[i] - estimate) <= abs_dev[i])\n",
    "\n",
    "\n",
    "\n",
    "# a dummy variable z for selection (1 if selected, else 0)\n",
    "z = mod.addVars(features, vtype=GRB.BINARY)\n",
    "\n",
    "\n",
    "# for beds, z  = 1\n",
    "mod.addConstr(z[6] == 1)\n",
    "\n",
    "# all other variables: when not selected, force beta = 0\n",
    "for j in range(features):\n",
    "    mod.addConstr(beta[j] <= 10000 * z[j])\n",
    "    mod.addConstr(beta[j] >= -10000 * z[j])\n",
    "\n",
    "# maximum of 3 features selected\n",
    "mod.addConstr(z.sum() == 3)\n",
    "\n",
    "\n",
    "# Objective function\n",
    "abs_dev_sum = sum(abs_dev[i] for i in range(listings))\n",
    "mod.setObjective(abs_dev_sum / listings, GRB.MINIMIZE)\n",
    "\n",
    "mod.update()\n",
    "\n",
    "mod.optimize()"
   ]
  },
  {
   "cell_type": "markdown",
   "metadata": {},
   "source": [
    "### Variables selected"
   ]
  },
  {
   "cell_type": "code",
   "execution_count": 44,
   "metadata": {},
   "outputs": [
    {
     "name": "stdout",
     "output_type": "stream",
     "text": [
      "Entire home          :  67.87500\n",
      "bedrooms             :  47.37500\n",
      "beds                 :  12.12500\n"
     ]
    }
   ],
   "source": [
    "if mod.status == GRB.OPTIMAL:\n",
    "    for j in range(features):\n",
    "        if z[j].X != 0:\n",
    "            print(f'{X.columns[j]:<21}:{beta[j].X:>10.5f}')\n",
    "else:\n",
    "    print('No optimal solution found')"
   ]
  },
  {
   "cell_type": "markdown",
   "metadata": {},
   "source": [
    "### New Prediction Error"
   ]
  },
  {
   "cell_type": "code",
   "execution_count": 45,
   "metadata": {},
   "outputs": [
    {
     "name": "stdout",
     "output_type": "stream",
     "text": [
      "$ 38.60/night\n"
     ]
    }
   ],
   "source": [
    "# Prediction error for each observation in the test set\n",
    "test['prediction'] = sum(beta[j].X * test.iloc[:, j] for j in range(features))\n",
    "\n",
    "# Prediction error in $/night\n",
    "pred_error = (test['price'] - test['prediction']).abs().mean()\n",
    "\n",
    "print(f'$ {pred_error:.2f}/night')"
   ]
  }
 ],
 "metadata": {
  "kernelspec": {
   "display_name": "base",
   "language": "python",
   "name": "python3"
  },
  "language_info": {
   "codemirror_mode": {
    "name": "ipython",
    "version": 3
   },
   "file_extension": ".py",
   "mimetype": "text/x-python",
   "name": "python",
   "nbconvert_exporter": "python",
   "pygments_lexer": "ipython3",
   "version": "3.11.5"
  }
 },
 "nbformat": 4,
 "nbformat_minor": 2
}
